{
 "cells": [
  {
   "cell_type": "code",
   "execution_count": 13,
   "metadata": {},
   "outputs": [],
   "source": [
    "import torch\n",
    "from torch import nn\n",
    "from torch.utils.data import DataLoader\n",
    "from torchvision import datasets\n",
    "from torchvision.transforms import ToTensor\n",
    "import numpy as np\n",
    "import pandas as pd\n",
    "\n",
    "import torch.nn.functional as nnf\n",
    "import sys\n",
    "from typing import Tuple, List, Union, Optional\n",
    "\n",
    "import clip\n",
    "import os\n",
    "from tqdm import tqdm, trange\n",
    "\n",
    "from transformers import GPT2Tokenizer, GPT2LMHeadModel, AdamW, get_linear_schedule_with_warmup\n",
    "\n",
    "import skimage.io as io\n",
    "from PIL import Image\n",
    "from IPython.display import Image \n",
    "from enum import Enum"
   ]
  },
  {
   "cell_type": "code",
   "execution_count": 14,
   "metadata": {},
   "outputs": [
    {
     "name": "stdout",
     "output_type": "stream",
     "text": [
      "Using cuda device\n"
     ]
    }
   ],
   "source": [
    "# Get cpu, gpu or mps device for training.\n",
    "device = (\n",
    "    \"cuda\"\n",
    "    if torch.cuda.is_available()\n",
    "    else \"mps\"\n",
    "    if torch.backends.mps.is_available()\n",
    "    else \"cpu\"\n",
    ")\n",
    "print(f\"Using {device} device\")"
   ]
  },
  {
   "cell_type": "code",
   "execution_count": 15,
   "metadata": {},
   "outputs": [],
   "source": [
    "tokeniser = GPT2Tokenizer.from_pretrained('gpt2')\n",
    "model = GPT2LMHeadModel.from_pretrained('gpt2').to(device)\n",
    "\n"
   ]
  },
  {
   "cell_type": "code",
   "execution_count": 16,
   "metadata": {},
   "outputs": [],
   "source": [
    "# model(inputs_embeds=embedding_cat, labels=labels, attention_mask=mask)"
   ]
  },
  {
   "cell_type": "code",
   "execution_count": 17,
   "metadata": {},
   "outputs": [
    {
     "data": {
      "text/plain": [
       "tensor([[18127, 39528, 14695, 41218, 31573, 26474, 43615, 47589, 16937,   198]],\n",
       "       device='cuda:0')"
      ]
     },
     "execution_count": 17,
     "metadata": {},
     "output_type": "execute_result"
    }
   ],
   "source": [
    "sentence = \"amic Delicious eleph SukActionCode photographers interchangeable undeniably achieving\\n\"\n",
    "input_ids = tokeniser.encode(sentence, return_tensors= 'pt').to(device)\n",
    "input_ids"
   ]
  },
  {
   "cell_type": "code",
   "execution_count": 18,
   "metadata": {},
   "outputs": [
    {
     "data": {
      "text/plain": [
       "{'input_ids': tensor([[18127, 39528, 14695, 41218, 31573, 26474, 43615, 47589, 16937,   198]],\n",
       "       device='cuda:0'), 'attention_mask': tensor([[1, 1, 1, 1, 1, 1, 1, 1, 1, 1]], device='cuda:0')}"
      ]
     },
     "execution_count": 18,
     "metadata": {},
     "output_type": "execute_result"
    }
   ],
   "source": [
    "tokens = tokeniser(sentence, return_tensors='pt').to(device)\n",
    "tokens"
   ]
  },
  {
   "cell_type": "code",
   "execution_count": 19,
   "metadata": {},
   "outputs": [
    {
     "name": "stderr",
     "output_type": "stream",
     "text": [
      "The attention mask and the pad token id were not set. As a consequence, you may observe unexpected behavior. Please pass your input's `attention_mask` to obtain reliable results.\n",
      "Setting `pad_token_id` to `eos_token_id`:50256 for open-end generation.\n"
     ]
    }
   ],
   "source": [
    "output = model.generate(input_ids, max_length = 50, no_repeat_ngram_size=2, early_stopping=True, num_beams = 5, do_sample=True)\n",
    "#output = model.generate(input_ids, max_length = 50, no_repeat_ngram_size=2, early_stopping=True, num_beams = 5, do_sample=True)"
   ]
  },
  {
   "cell_type": "code",
   "execution_count": 20,
   "metadata": {},
   "outputs": [
    {
     "name": "stdout",
     "output_type": "stream",
     "text": [
      "amic Delicious eleph SukActionCode photographers interchangeable undeniably achieving\n",
      "\n",
      "(1) The use of the term \"expert photographer\" to refer to a person who has been trained in photography for a period of at least one year by a professional photographer. The term\n"
     ]
    }
   ],
   "source": [
    "print(tokeniser.decode(output[0], skip_special_tokens=True))"
   ]
  },
  {
   "cell_type": "code",
   "execution_count": 21,
   "metadata": {},
   "outputs": [
    {
     "name": "stderr",
     "output_type": "stream",
     "text": [
      "100%|██████████| 7985/7985 [00:02<00:00, 3489.33it/s]"
     ]
    },
    {
     "name": "stdout",
     "output_type": "stream",
     "text": [
      "The person walked to the cabinet,opened it took out Oreo cook and a bar of chocolate  set them on the table and opened one Oreo cook and put a Pisce of chocolate on top of it.Get a jar of water from the refrigerator poured water to a cup.;A woman walks across a kitchen and gets cookies and a chocolate bar out of a cabinet. She walks and puts them on a table, and then breaks a cookie apart and sets it on a plate. She puts a piece of chocolate on the cookie and starts to eat it. She then walks and opens a refrigerator and takes out a container of water. She walks back to the table and fills a glass with water.\n",
      "[140]\n"
     ]
    },
    {
     "name": "stderr",
     "output_type": "stream",
     "text": [
      "\n"
     ]
    }
   ],
   "source": [
    "df = pd.read_csv(\"./Charades/Charades_v1_train.csv\")\n",
    "\n",
    "text_tokens = []\n",
    "token_lengths = []\n",
    "text_token = tokeniser.encode(df.loc[0,\"descriptions\"], return_tensors= 'pt').to(device)\n",
    "max = [text_token.shape[1]]\n",
    "max_index = 0\n",
    "\n",
    "for i in tqdm(range(len(df[\"id\"]))):\n",
    "\n",
    "    text_token = tokeniser.encode(df.loc[i,\"descriptions\"], return_tensors= 'pt').to(device)\n",
    "    text_tokens.append(text_token)\n",
    "    token_length = [text_token.shape[1]]\n",
    "    token_lengths.append(token_length)\n",
    "    if token_length > max:\n",
    "        max = token_length\n",
    "        max_index = i\n",
    "\n",
    "print(df.loc[max_index,\"descriptions\"])\n",
    "print(max)\n"
   ]
  },
  {
   "cell_type": "code",
   "execution_count": 22,
   "metadata": {},
   "outputs": [
    {
     "data": {
      "image/png": "[encoded data removed]",
      "text/plain": [
       "<Figure size 640x480 with 1 Axes>"
      ]
     },
     "metadata": {},
     "output_type": "display_data"
    }
   ],
   "source": [
    "import matplotlib.pyplot as plt\n",
    "import seaborn as sb\n",
    "import numpy as np\n",
    "\n",
    "# Convert the list to a numpy array\n",
    "all_arr = np.array(token_lengths)\n",
    "\n",
    "# Create a boxplot using seaborn\n",
    "sb.histplot(data=all_arr)\n",
    "\n",
    "# Show the plot\n",
    "plt.show()"
   ]
  },
  {
   "cell_type": "code",
   "execution_count": 23,
   "metadata": {},
   "outputs": [
    {
     "name": "stdout",
     "output_type": "stream",
     "text": [
      "[[14], [25], [42], [25], [13], [47], [27], [23], [14], [67], [74], [43], [105], [33], [35], [33], [53], [10], [20], [62], [47], [24], [28], [19], [20], [42], [43], [16], [18], [25], [11], [16], [61], [16], [24], [74], [43], [22], [38], [55], [61], [36], [68], [14], [88], [55], [53], [66], [59], [50], [27], [23], [46], [48], [49], [26], [63], [20], [52], [55], [20], [30], [49], [42], [51], [18], [25], [14], [65], [37], [81], [36], [39], [51], [77], [25], [11], [47], [19], [17], [54], [36], [7], [50], [23], [23], [50], [51], [30], [95], [45], [56], [29], [70], [48], [56], [49], [22], [18], [30], [54], [24], [72], [41], [17], [67], [21], [63], [25], [39], [59], [28], [37], [48], [46], [53], [15], [40], [25], [13], [6], [40], [16], [48], [67], [44], [19], [15], [55], [41], [18], [18], [38], [79], [12], [22], [18], [19], [30], [6], [52], [14], [21], [43], [38], [39], [22], [22], [20], [21], [21], [47], [59], [42], [32], [32], [16], [22], [28], [39], [19], [31], [87], [22], [60], [13], [9], [16], [31], [88], [29], [22], [6], [60], [36], [16], [10], [17], [26], [13], [18], [52], [29], [41], [44], [42], [53], [13], [15], [18], [20], [38], [68], [19], [34], [37], [27], [21], [59], [48], [17], [12], [14], [24], [27], [14], [20], [21], [20], [39], [59], [19], [30], [21], [51], [54], [23], [21], [44], [35], [37], [27], [18], [33], [25], [52], [59], [21], [54], [22], [22], [15], [27], [64], [20], [37], [55], [26], [9], [25], [27], [23], [24], [47], [25], [63], [23], [37], [40], [67], [31], [12], [25], [44], [26], [42], [43], [56], [61], [22], [58], [27], [56], [31], [43], [43], [16], [13], [28], [25], [16], [28], [24], [12], [19], [18], [37], [65], [32], [29], [60], [30], [21], [22], [26], [26], [59], [74], [38], [49], [39], [15], [38], [38], [21], [94], [32], [29], [78], [26], [53], [43], [15], [22], [35], [34], [44], [24], [14], [29], [15], [19], [38], [28], [31], [66], [49], [7], [25], [65], [14], [95], [55], [55], [25], [23], [43], [34], [28], [17], [28], [32], [41], [28], [74], [49], [59], [52], [60], [14], [18], [14], [20], [15], [47], [27], [24], [27], [14], [30], [44], [23], [23], [71], [17], [55], [55], [22], [20], [47], [17], [15], [24], [46], [27], [46], [17], [21], [41], [19], [32], [30], [18], [45], [54], [16], [45], [16], [41], [76], [25], [29], [25], [24], [15], [14], [22], [43], [59], [27], [33], [55], [20], [29], [20], [47], [35], [44], [52], [26], [20], [19], [29], [53], [32], [39], [21], [16], [25], [31], [68], [34], [95], [41], [15], [18], [29], [80], [15], [74], [60], [55], [69], [18], [53], [30], [16], [27], [18], [64], [16], [29], [53], [32], [36], [45], [15], [73], [9], [29], [24], [57], [61], [21], [25], [16], [15], [24], [33], [33], [48], [40], [18], [38], [41], [71], [23], [44], [55], [43], [22], [17], [43], [19], [58], [33], [38], [52], [47], [36], [61], [40], [31], [32], [67], [22], [19], [33], [26], [55], [16], [27], [17], [37], [14], [17], [18], [21], [17], [36], [21], [36], [52], [49], [44], [30], [20], [76], [13], [26], [20], [42], [44], [6], [15], [64], [12], [66], [36], [52], [24], [56], [38], [23], [50], [13], [25], [27], [17], [17], [58], [22], [30], [48], [57], [13], [19], [51], [22], [15], [34], [33], [21], [53], [44], [37], [52], [28], [43], [51], [35], [17], [18], [17], [12], [54], [68], [2], [49], [49], [70], [31], [15], [18], [26], [36], [46], [24], [22], [56], [19], [20], [56], [38], [51], [44], [14], [62], [67], [38], [26], [39], [25], [67], [55], [29], [88], [89], [24], [42], [26], [37], [21], [30], [60], [11], [14], [70], [17], [42], [58], [27], [71], [84], [24], [10], [76], [26], [79], [28], [16], [47], [34], [48], [53], [15], [12], [22], [43], [31], [47], [31], [84], [20], [40], [61], [24], [53], [28], [19], [34], [17], [42], [15], [37], [30], [30], [40], [20], [34], [21], [39], [21], [26], [28], [65], [50], [62], [60], [11], [46], [53], [27], [57], [59], [60], [20], [35], [73], [37], [55], [14], [24], [35], [20], [22], [20], [18], [31], [44], [82], [15], [12], [24], [15], [16], [45], [17], [43], [34], [25], [9], [29], [25], [26], [63], [63], [26], [75], [17], [30], [14], [33], [22], [16], [47], [12], [44], [35], [25], [16], [46], [33], [16], [51], [31], [28], [48], [57], [15], [34], [18], [36], [29], [23], [15], [24], [2], [50], [26], [28], [5], [23], [20], [38], [60], [17], [22], [23], [45], [56], [19], [33], [30], [51], [46], [11], [40], [43], [62], [68], [36], [51], [37], [21], [46], [48], [15], [13], [25], [63], [17], [27], [23], [44], [47], [79], [56], [42], [31], [57], [45], [27], [26], [16], [86], [54], [28], [21], [34], [55], [62], [12], [38], [42], [37], [40], [98], [12], [44], [25], [20], [28], [19], [51], [30], [38], [46], [57], [25], [37], [41], [24], [64], [22], [14], [23], [27], [15], [106], [29], [25], [57], [41], [20], [41], [24], [23], [76], [72], [19], [47], [44], [36], [16], [11], [42], [18], [16], [39], [49], [50], [16], [15], [49], [54], [41], [14], [77], [43], [53], [62], [45], [14], [18], [12], [15], [18], [52], [15], [34], [19], [37], [14], [51], [25], [55], [29], [37], [51], [21], [23], [22], [73], [36], [10], [13], [8], [49], [17], [24], [26], [23], [30], [44], [13], [13], [18], [24], [35], [54], [10], [24], [54], [29], [33], [23], [58], [23], [33], [35], [21], [86], [15], [29], [58], [14], [24], [25], [25], [61], [45], [67], [13], [22], [50], [17], [25], [18], [19], [29], [53], [32], [11], [44], [15], [73], [20], [16], [22], [17], [45], [18], [37], [53], [58], [12], [25], [35], [20], [55], [16], [51], [20], [16], [19], [14], [8], [73], [34], [58], [27], [59], [45], [21], [51], [13], [14], [14], [21], [51], [25], [36], [38], [17], [5], [53], [27], [15], [46], [63], [28], [9], [33], [43], [20], [37], [45], [25], [17], [17], [23], [11], [29], [17], [27], [18], [71], [44], [27], [34], [17], [69], [61], [25], [69], [12], [45], [58], [35], [23], [45], [65], [25], [17], [28], [30], [41], [22], [55], [32], [29], [27], [24], [61], [80], [40], [12], [47], [45], [33], [29], [6], [28], [20], [20], [48], [27], [62], [46], [13], [42], [48], [17], [14], [74], [37], [18], [80], [41], [15], [33], [68], [59], [52], [50], [22], [36], [18], [38], [71], [18], [56], [29], [31], [39], [42], [60], [23], [63], [56], [31], [42], [23], [56], [26], [54], [10], [52], [75], [57], [39], [45], [21], [32], [51], [24], [52], [24], [15], [37], [56], [19], [13], [29], [22], [47], [20], [25], [37], [72], [51], [16], [20], [29], [22], [53], [67], [20], [77], [19], [62], [20], [20], [41], [53], [41], [33], [40], [41], [61], [30], [52], [28], [26], [21], [26], [48], [32], [24], [43], [37], [67], [41], [43], [39], [56], [57], [23], [41], [20], [34], [51], [68], [42], [25], [21], [21], [67], [13], [76], [33], [10], [13], [26], [17], [35], [38], [21], [14], [22], [35], [31], [43], [37], [28], [50], [36], [28], [8], [22], [30], [64], [64], [18], [123], [56], [14], [61], [113], [35], [17], [36], [49], [24], [15], [49], [38], [54], [15], [26], [37], [8], [13], [68], [45], [51], [54], [17], [48], [49], [11], [39], [29], [19], [37], [20], [24], [50], [32], [50], [52], [64], [45], [19], [29], [61], [46], [42], [48], [25], [23], [62], [31], [21], [68], [24], [16], [21], [19], [16], [52], [21], [29], [33], [21], [72], [15], [19], [51], [19], [10], [60], [20], [23], [29], [20], [16], [79], [55], [24], [57], [47], [69], [46], [13], [44], [26], [17], [35], [17], [49], [28], [38], [17], [56], [60], [60], [38], [22], [53], [15], [14], [66], [10], [56], [14], [18], [25], [59], [36], [31], [11], [23], [71], [58], [55], [69], [105], [28], [24], [23], [2], [57], [47], [35], [81], [14], [28], [40], [21], [26], [29], [29], [34], [16], [17], [17], [35], [73], [53], [35], [62], [27], [18], [48], [38], [27], [36], [17], [25], [50], [38], [21], [72], [63], [41], [31], [35], [58], [41], [29], [19], [46], [15], [27], [27], [80], [38], [13], [108], [64], [51], [50], [67], [49], [68], [57], [23], [22], [19], [17], [29], [18], [32], [58], [36], [26], [8], [20], [43], [34], [45], [35], [44], [22], [92], [21], [33], [36], [45], [22], [44], [32], [32], [29], [68], [21], [16], [22], [24], [47], [36], [37], [34], [56], [53], [66], [48], [13], [31], [45], [36], [47], [41], [22], [28], [31], [72], [14], [19], [20], [65], [20], [54], [23], [53], [22], [7], [41], [40], [61], [28], [23], [62], [28], [18], [54], [22], [48], [53], [40], [22], [43], [18], [11], [37], [42], [51], [17], [13], [42], [9], [24], [25], [63], [21], [66], [43], [20], [38], [37], [16], [13], [20], [41], [28], [10], [62], [54], [50], [38], [17], [51], [48], [33], [34], [44], [57], [40], [50], [25], [46], [38], [53], [89], [37], [17], [2], [50], [13], [30], [17], [16], [20], [52], [54], [12], [35], [20], [29], [23], [53], [38], [36], [93], [34], [41], [26], [49], [50], [41], [23], [34], [39], [32], [33], [28], [16], [60], [59], [69], [47], [64], [39], [20], [26], [42], [23], [25], [39], [62], [24], [55], [27], [19], [33], [41], [62], [21], [28], [59], [16], [13], [15], [49], [21], [44], [23], [39], [16], [58], [21], [50], [15], [23], [8], [17], [63], [29], [65], [13], [12], [19], [48], [26], [41], [22], [47], [42], [18], [24], [38], [86], [58], [32], [35], [23], [47], [21], [19], [12], [27], [35], [42], [34], [62], [25], [21], [24], [40], [15], [23], [16], [85], [18], [20], [50], [38], [14], [13], [13], [11], [27], [39], [22], [63], [43], [28], [15], [57], [28], [34], [52], [41], [27], [40], [24], [30], [33], [30], [25], [24], [40], [44], [19], [73], [17], [24], [24], [43], [48], [35], [61], [25], [57], [47], [53], [21], [29], [37], [39], [24], [54], [28], [22], [23], [28], [55], [23], [20], [35], [41], [28], [21], [58], [62], [28], [29], [16], [18], [21], [61], [54], [18], [59], [34], [28], [66], [56], [37], [33], [21], [16], [54], [28], [12], [33], [30], [48], [36], [24], [15], [26], [47], [25], [52], [50], [34], [39], [16], [54], [66], [19], [45], [37], [38], [67], [53], [22], [24], [44], [16], [27], [23], [46], [63], [45], [18], [21], [46], [26], [51], [9], [63], [20], [26], [17], [43], [18], [22], [42], [23], [27], [98], [39], [32], [40], [30], [24], [34], [72], [17], [16], [21], [39], [26], [45], [14], [23], [12], [48], [46], [59], [29], [59], [20], [50], [7], [46], [57], [29], [19], [67], [30], [84], [42], [39], [20], [29], [57], [13], [41], [10], [38], [48], [22], [48], [62], [57], [12], [17], [26], [27], [23], [24], [27], [32], [46], [19], [27], [26], [26], [41], [21], [76], [29], [57], [10], [20], [16], [18], [37], [56], [23], [53], [41], [62], [29], [25], [37], [16], [18], [55], [33], [30], [16], [53], [21], [5], [33], [30], [30], [35], [27], [43], [68], [93], [24], [46], [24], [38], [25], [56], [16], [76], [16], [47], [27], [39], [19], [50], [37], [99], [53], [15], [42], [24], [15], [22], [73], [50], [20], [49], [75], [79], [21], [40], [43], [57], [17], [19], [21], [30], [56], [23], [54], [34], [22], [9], [49], [35], [30], [56], [20], [56], [30], [58], [50], [70], [37], [46], [31], [42], [24], [13], [33], [20], [62], [21], [36], [29], [21], [29], [14], [13], [15], [97], [27], [54], [31], [43], [22], [57], [45], [47], [25], [19], [23], [23], [20], [65], [36], [60], [56], [73], [47], [140], [28], [28], [40], [17], [24], [8], [16], [25], [27], [15], [13], [32], [27], [22], [34], [15], [20], [49], [51], [32], [56], [27], [17], [19], [39], [39], [14], [22], [18], [85], [25], [54], [35], [14], [25], [56], [54], [49], [50], [23], [13], [62], [90], [28], [30], [67], [56], [34], [12], [57], [25], [58], [31], [87], [18], [10], [29], [66], [60], [14], [35], [42], [22], [36], [37], [15], [20], [51], [17], [38], [22], [24], [18], [30], [30], [18], [75], [25], [54], [56], [21], [52], [14], [24], [19], [37], [21], [13], [43], [22], [32], [37], [28], [19], [6], [46], [31], [47], [23], [32], [69], [45], [34], [42], [14], [51], [36], [24], [51], [62], [74], [26], [18], [31], [26], [17], [80], [27], [51], [11], [58], [18], [20], [49], [68], [21], [57], [68], [31], [21], [60], [52], [49], [70], [49], [8], [31], [14], [26], [30], [39], [20], [28], [37], [29], [27], [12], [23], [27], [16], [63], [43], [80], [43], [31], [24], [55], [17], [30], [20], [24], [12], [26], [12], [30], [28], [38], [15], [21], [14], [28], [49], [38], [24], [59], [29], [52], [20], [29], [19], [46], [48], [52], [17], [20], [51], [46], [31], [51], [21], [20], [66], [112], [52], [29], [21], [36], [27], [32], [26], [24], [16], [47], [49], [18], [22], [42], [62], [69], [41], [37], [29], [44], [75], [42], [30], [24], [23], [64], [50], [48], [30], [41], [51], [32], [43], [18], [51], [38], [80], [26], [58], [37], [62], [23], [13], [19], [16], [29], [21], [26], [23], [43], [28], [65], [55], [51], [27], [25], [27], [47], [18], [91], [76], [15], [78], [44], [21], [24], [12], [23], [44], [54], [54], [14], [13], [32], [64], [8], [39], [41], [17], [25], [44], [50], [12], [12], [7], [41], [57], [37], [24], [21], [53], [31], [14], [39], [60], [46], [23], [25], [27], [26], [15], [27], [23], [18], [22], [33], [28], [19], [27], [16], [26], [62], [41], [28], [7], [43], [60], [18], [45], [49], [52], [66], [22], [16], [26], [45], [88], [41], [31], [46], [26], [55], [30], [61], [24], [16], [15], [55], [53], [103], [11], [10], [29], [19], [26], [30], [26], [30], [10], [50], [20], [42], [16], [58], [30], [20], [60], [24], [38], [11], [40], [22], [34], [21], [15], [12], [31], [28], [14], [21], [56], [19], [44], [23], [57], [48], [43], [13], [50], [31], [39], [12], [56], [35], [17], [63], [22], [28], [67], [24], [11], [20], [43], [10], [23], [20], [34], [42], [68], [56], [6], [31], [23], [47], [56], [13], [42], [24], [27], [36], [19], [39], [13], [31], [27], [26], [41], [56], [78], [33], [23], [36], [19], [60], [21], [42], [44], [32], [36], [76], [21], [92], [47], [16], [49], [19], [23], [13], [26], [14], [55], [43], [27], [15], [27], [39], [53], [60], [19], [22], [30], [32], [24], [20], [76], [12], [34], [36], [51], [41], [68], [25], [47], [30], [47], [26], [36], [27], [57], [21], [20], [32], [41], [34], [31], [60], [47], [30], [30], [78], [47], [25], [47], [30], [49], [38], [28], [16], [47], [30], [35], [46], [78], [19], [37], [25], [19], [22], [21], [39], [33], [62], [45], [37], [38], [16], [21], [12], [52], [34], [25], [40], [25], [33], [37], [52], [54], [44], [11], [23], [58], [32], [32], [30], [12], [40], [72], [34], [64], [14], [93], [27], [15], [54], [14], [19], [46], [63], [18], [44], [43], [19], [27], [35], [20], [10], [44], [52], [40], [46], [25], [50], [23], [22], [39], [9], [26], [43], [59], [39], [45], [28], [23], [60], [17], [33], [29], [33], [23], [20], [30], [66], [16], [14], [37], [68], [18], [20], [56], [17], [86], [37], [16], [43], [15], [21], [48], [22], [23], [16], [45], [45], [16], [74], [20], [25], [26], [37], [72], [13], [46], [88], [26], [50], [70], [43], [12], [21], [35], [67], [22], [33], [24], [30], [24], [20], [33], [33], [31], [49], [39], [13], [27], [80], [34], [10], [15], [25], [43], [41], [62], [24], [25], [31], [26], [16], [26], [15], [27], [22], [11], [31], [73], [26], [13], [29], [28], [32], [23], [22], [34], [60], [15], [25], [25], [17], [68], [23], [21], [29], [17], [47], [23], [31], [20], [45], [11], [2], [9], [23], [47], [18], [51], [22], [26], [14], [12], [24], [58], [68], [25], [19], [39], [52], [70], [23], [38], [51], [57], [29], [33], [55], [35], [24], [24], [40], [11], [62], [42], [31], [44], [15], [44], [53], [25], [31], [16], [38], [58], [65], [56], [44], [34], [21], [20], [29], [52], [48], [107], [21], [25], [28], [49], [80], [65], [13], [35], [47], [47], [60], [36], [8], [12], [52], [46], [26], [83], [54], [23], [22], [43], [19], [33], [44], [55], [32], [14], [28], [11], [37], [50], [31], [56], [16], [32], [44], [61], [20], [31], [14], [10], [39], [103], [43], [16], [61], [18], [17], [25], [24], [20], [44], [48], [28], [48], [18], [53], [49], [43], [55], [47], [24], [90], [39], [41], [15], [15], [21], [21], [21], [20], [15], [41], [36], [22], [37], [55], [17], [29], [32], [18], [25], [32], [34], [23], [74], [47], [50], [17], [70], [16], [20], [14], [18], [81], [19], [32], [23], [19], [56], [20], [23], [36], [32], [21], [13], [73], [63], [34], [19], [24], [64], [61], [21], [20], [58], [45], [37], [12], [57], [56], [35], [34], [19], [30], [44], [30], [23], [36], [66], [46], [36], [44], [31], [53], [45], [54], [46], [24], [22], [32], [16], [48], [43], [41], [75], [42], [19], [19], [22], [24], [57], [16], [41], [50], [27], [45], [19], [15], [54], [49], [54], [59], [35], [16], [28], [33], [28], [27], [37], [30], [75], [44], [121], [43], [44], [57], [24], [14], [20], [47], [30], [72], [12], [29], [53], [40], [16], [33], [20], [18], [14], [41], [38], [58], [12], [49], [32], [46], [21], [62], [35], [55], [60], [12], [69], [47], [13], [31], [31], [30], [28], [59], [82], [37], [26], [29], [21], [22], [82], [53], [15], [28], [26], [18], [7], [50], [60], [47], [17], [24], [23], [7], [14], [15], [27], [54], [36], [39], [29], [20], [33], [25], [62], [14], [38], [9], [30], [10], [15], [14], [65], [17], [31], [57], [58], [25], [49], [18], [28], [34], [66], [14], [30], [25], [48], [45], [63], [43], [18], [25], [12], [30], [43], [52], [20], [67], [23], [25], [40], [30], [37], [35], [35], [27], [34], [50], [20], [68], [103], [30], [18], [43], [24], [17], [27], [64], [45], [79], [19], [32], [43], [50], [48], [13], [58], [35], [28], [24], [31], [27], [25], [65], [69], [60], [24], [52], [45], [86], [38], [59], [58], [33], [50], [40], [57], [25], [58], [37], [41], [17], [64], [31], [41], [58], [23], [28], [18], [48], [52], [61], [31], [37], [56], [39], [13], [28], [54], [15], [21], [22], [37], [26], [21], [33], [26], [52], [14], [31], [2], [24], [30], [33], [37], [82], [42], [31], [15], [34], [34], [25], [34], [65], [83], [54], [42], [33], [97], [22], [14], [77], [38], [69], [31], [32], [60], [20], [30], [12], [39], [19], [38], [40], [36], [42], [31], [81], [18], [48], [39], [22], [18], [45], [56], [43], [45], [30], [33], [29], [13], [50], [54], [21], [42], [45], [34], [39], [18], [28], [41], [33], [49], [41], [19], [27], [26], [52], [32], [38], [63], [34], [55], [42], [47], [34], [16], [2], [67], [34], [35], [25], [21], [26], [23], [48], [43], [56], [46], [29], [75], [33], [26], [17], [45], [73], [44], [55], [74], [39], [20], [25], [62], [16], [68], [53], [45], [14], [30], [18], [20], [14], [14], [19], [21], [50], [32], [62], [26], [31], [42], [34], [15], [14], [33], [44], [17], [46], [19], [54], [67], [23], [13], [11], [21], [21], [33], [58], [59], [39], [32], [50], [23], [53], [16], [25], [34], [26], [27], [31], [32], [30], [92], [25], [19], [27], [49], [31], [46], [18], [27], [54], [35], [47], [57], [13], [13], [18], [20], [9], [18], [74], [71], [48], [75], [19], [21], [45], [20], [43], [35], [41], [11], [31], [19], [43], [20], [31], [66], [32], [21], [30], [27], [48], [22], [20], [41], [63], [51], [22], [28], [61], [50], [34], [56], [16], [30], [23], [56], [22], [35], [40], [40], [31], [25], [33], [33], [61], [25], [29], [17], [20], [8], [16], [32], [53], [19], [63], [39], [46], [29], [6], [44], [50], [58], [11], [44], [23], [106], [19], [51], [53], [21], [65], [124], [60], [20], [71], [29], [26], [26], [35], [20], [59], [46], [35], [22], [9], [24], [45], [29], [53], [52], [19], [41], [20], [27], [47], [13], [16], [35], [40], [21], [25], [12], [19], [41], [16], [32], [49], [20], [13], [15], [39], [15], [29], [35], [12], [13], [67], [64], [43], [63], [80], [26], [26], [37], [33], [16], [25], [10], [25], [55], [66], [21], [82], [31], [12], [53], [14], [26], [68], [77], [74], [20], [25], [9], [18], [22], [47], [14], [57], [36], [29], [26], [56], [112], [40], [56], [57], [14], [82], [96], [27], [25], [69], [19], [31], [23], [31], [55], [39], [17], [30], [36], [41], [27], [40], [66], [67], [22], [51], [12], [41], [15], [37], [47], [50], [65], [48], [20], [54], [43], [38], [25], [70], [23], [49], [14], [69], [22], [58], [62], [21], [37], [52], [23], [13], [27], [9], [24], [19], [28], [13], [31], [32], [38], [39], [69], [21], [29], [69], [12], [31], [60], [51], [41], [23], [64], [16], [52], [24], [30], [37], [20], [23], [14], [18], [62], [34], [30], [17], [37], [35], [56], [40], [18], [38], [33], [37], [49], [21], [22], [30], [48], [12], [63], [35], [57], [48], [38], [24], [69], [15], [42], [30], [27], [13], [73], [53], [103], [67], [23], [12], [16], [41], [25], [19], [18], [31], [35], [25], [47], [63], [44], [15], [12], [74], [25], [34], [21], [18], [28], [66], [28], [14], [68], [21], [21], [30], [17], [29], [34], [22], [55], [100], [39], [16], [15], [32], [22], [67], [15], [28], [56], [30], [30], [20], [36], [53], [13], [33], [26], [45], [43], [39], [13], [53], [21], [47], [15], [34], [76], [38], [93], [14], [77], [24], [21], [52], [37], [26], [38], [22], [14], [98], [40], [59], [77], [15], [27], [18], [15], [40], [53], [26], [83], [64], [112], [60], [15], [39], [22], [59], [33], [21], [17], [36], [14], [45], [34], [53], [21], [78], [58], [18], [54], [34], [27], [27], [25], [22], [41], [24], [21], [39], [19], [27], [44], [20], [38], [53], [26], [13], [53], [14], [48], [22], [17], [28], [23], [34], [19], [27], [20], [19], [84], [20], [13], [40], [17], [89], [23], [23], [10], [68], [58], [23], [64], [25], [52], [45], [18], [9], [58], [27], [40], [27], [27], [35], [22], [58], [38], [26], [39], [20], [21], [16], [17], [24], [46], [64], [47], [16], [23], [55], [48], [36], [64], [52], [27], [65], [129], [36], [22], [46], [58], [30], [27], [21], [44], [36], [37], [18], [56], [56], [25], [28], [32], [74], [48], [64], [30], [33], [13], [31], [12], [49], [28], [66], [32], [43], [8], [50], [37], [65], [83], [67], [24], [61], [15], [23], [17], [47], [17], [21], [2], [79], [44], [52], [61], [39], [74], [13], [19], [12], [70], [37], [32], [24], [34], [47], [13], [18], [10], [17], [36], [15], [22], [37], [103], [36], [33], [35], [34], [45], [12], [48], [79], [90], [86], [90], [21], [8], [26], [53], [52], [22], [48], [57], [20], [39], [29], [42], [32], [26], [50], [62], [25], [27], [14], [28], [34], [35], [62], [27], [36], [28], [57], [53], [35], [35], [29], [43], [51], [84], [16], [21], [37], [67], [18], [33], [39], [90], [73], [44], [26], [40], [48], [41], [62], [21], [20], [44], [26], [21], [55], [25], [21], [25], [25], [19], [44], [120], [73], [24], [49], [32], [19], [80], [60], [53], [25], [43], [78], [52], [36], [49], [21], [60], [62], [27], [20], [30], [67], [18], [54], [21], [56], [46], [30], [55], [7], [50], [24], [21], [64], [37], [2], [19], [43], [23], [61], [14], [32], [24], [19], [29], [45], [69], [13], [39], [18], [2], [25], [77], [18], [51], [17], [36], [23], [37], [50], [67], [47], [41], [24], [22], [56], [80], [13], [31], [84], [35], [21], [32], [28], [57], [61], [47], [49], [17], [23], [74], [25], [76], [19], [26], [46], [69], [62], [16], [54], [27], [13], [25], [23], [25], [15], [33], [12], [44], [24], [39], [23], [26], [45], [53], [13], [54], [26], [40], [31], [19], [18], [30], [33], [16], [40], [13], [24], [50], [29], [43], [46], [23], [26], [28], [54], [13], [39], [31], [58], [15], [22], [60], [27], [26], [11], [35], [16], [33], [53], [61], [16], [28], [45], [26], [54], [46], [33], [20], [36], [60], [51], [55], [16], [40], [29], [73], [47], [46], [16], [23], [28], [28], [34], [62], [15], [49], [59], [30], [20], [29], [63], [29], [43], [14], [26], [51], [72], [24], [36], [17], [73], [28], [31], [21], [41], [46], [26], [44], [24], [19], [25], [82], [46], [31], [38], [26], [21], [51], [27], [28], [32], [17], [38], [34], [39], [36], [30], [44], [29], [59], [13], [33], [28], [95], [65], [44], [53], [27], [71], [71], [99], [16], [30], [45], [41], [30], [27], [69], [24], [61], [12], [41], [11], [24], [15], [19], [80], [88], [42], [20], [18], [27], [55], [12], [34], [24], [56], [32], [13], [22], [67], [27], [51], [14], [37], [60], [44], [31], [55], [74], [61], [17], [24], [14], [69], [59], [29], [24], [21], [110], [36], [34], [39], [90], [32], [56], [54], [36], [35], [17], [17], [49], [32], [44], [25], [33], [28], [33], [18], [17], [22], [2], [21], [41], [54], [31], [25], [21], [15], [25], [27], [14], [13], [21], [32], [83], [48], [26], [28], [22], [16], [18], [26], [24], [30], [43], [25], [21], [36], [42], [14], [61], [38], [21], [45], [34], [20], [33], [30], [21], [44], [15], [44], [49], [25], [15], [19], [26], [19], [44], [38], [40], [87], [28], [12], [38], [18], [72], [24], [44], [35], [21], [71], [40], [60], [25], [30], [27], [51], [16], [21], [50], [27], [75], [24], [55], [11], [26], [33], [25], [22], [65], [15], [12], [35], [47], [24], [74], [19], [22], [77], [27], [14], [21], [28], [41], [25], [14], [36], [48], [27], [13], [28], [13], [19], [27], [38], [20], [59], [21], [17], [20], [37], [23], [23], [13], [70], [22], [42], [24], [35], [73], [65], [26], [27], [45], [31], [56], [30], [37], [9], [72], [17], [45], [48], [24], [18], [25], [9], [81], [65], [21], [79], [30], [75], [24], [59], [32], [24], [21], [21], [15], [31], [31], [10], [31], [28], [11], [17], [55], [33], [25], [39], [24], [28], [44], [28], [28], [41], [34], [41], [22], [31], [21], [30], [27], [15], [21], [16], [37], [32], [35], [22], [39], [18], [15], [20], [17], [16], [40], [44], [16], [28], [47], [25], [21], [49], [66], [49], [56], [36], [22], [48], [29], [63], [40], [64], [20], [41], [59], [54], [18], [23], [23], [81], [15], [53], [17], [24], [42], [16], [32], [13], [41], [50], [36], [57], [18], [20], [11], [42], [51], [26], [29], [60], [52], [53], [41], [22], [46], [51], [47], [20], [32], [26], [54], [94], [37], [48], [32], [87], [57], [14], [53], [23], [34], [39], [51], [15], [43], [39], [13], [57], [34], [62], [68], [14], [12], [24], [33], [50], [28], [61], [79], [35], [11], [48], [24], [24], [31], [52], [62], [46], [26], [37], [48], [36], [55], [28], [30], [50], [35], [24], [19], [43], [17], [36], [54], [9], [81], [39], [75], [23], [28], [30], [32], [28], [27], [9], [33], [51], [15], [69], [22], [26], [40], [35], [47], [42], [58], [16], [70], [17], [23], [13], [25], [13], [61], [15], [53], [50], [73], [84], [49], [23], [61], [43], [23], [48], [18], [38], [28], [40], [19], [55], [58], [48], [24], [70], [50], [58], [39], [51], [63], [26], [69], [69], [37], [21], [31], [22], [23], [31], [50], [71], [50], [20], [33], [83], [11], [13], [33], [68], [28], [72], [24], [87], [65], [26], [15], [63], [70], [14], [29], [48], [13], [21], [38], [18], [58], [18], [19], [57], [17], [75], [16], [8], [11], [10], [46], [69], [31], [37], [80], [56], [26], [59], [24], [33], [16], [14], [66], [19], [70], [8], [19], [92], [15], [17], [36], [32], [26], [48], [27], [27], [28], [48], [24], [26], [48], [45], [49], [43], [22], [27], [20], [39], [16], [27], [15], [48], [89], [62], [70], [17], [37], [20], [32], [22], [25], [15], [30], [16], [49], [20], [24], [53], [66], [13], [33], [81], [61], [53], [11], [25], [51], [73], [77], [47], [30], [21], [94], [27], [77], [47], [23], [42], [22], [33], [40], [54], [32], [47], [52], [22], [43], [33], [18], [25], [47], [24], [14], [18], [32], [20], [78], [20], [22], [64], [28], [44], [42], [34], [78], [19], [29], [77], [64], [33], [12], [30], [42], [33], [38], [68], [27], [60], [22], [36], [55], [65], [28], [47], [35], [36], [16], [76], [30], [35], [17], [33], [42], [29], [46], [97], [47], [78], [83], [40], [43], [14], [27], [77], [47], [31], [55], [34], [25], [52], [51], [41], [71], [50], [18], [25], [24], [46], [14], [57], [33], [43], [31], [23], [29], [45], [79], [17], [15], [15], [37], [63], [65], [18], [14], [12], [36], [82], [27], [24], [19], [15], [35], [37], [12], [90], [16], [17], [23], [59], [28], [18], [34], [60], [27], [78], [46], [33], [45], [18], [36], [40], [36], [47], [43], [39], [30], [24], [15], [26], [17], [14], [34], [62], [44], [18], [55], [47], [25], [25], [30], [24], [57], [66], [45], [8], [39], [80], [66], [50], [22], [63], [11], [40], [17], [48], [19], [58], [40], [19], [72], [64], [68], [48], [35], [54], [37], [28], [13], [48], [48], [59], [70], [33], [17], [28], [43], [27], [29], [15], [66], [48], [52], [31], [73], [46], [23], [70], [21], [39], [13], [67], [54], [67], [50], [20], [20], [28], [16], [35], [68], [45], [38], [26], [26], [32], [20], [21], [59], [10], [48], [25], [92], [49], [27], [15], [21], [28], [41], [62], [39], [28], [58], [32], [23], [32], [70], [13], [24], [30], [42], [44], [25], [57], [66], [20], [29], [34], [62], [28], [37], [19], [27], [56], [61], [32], [27], [18], [31], [23], [57], [28], [80], [56], [21], [19], [46], [43], [34], [15], [59], [35], [94], [55], [52], [43], [22], [31], [42], [49], [44], [48], [34], [56], [12], [34], [23], [35], [42], [44], [27], [16], [27], [55], [38], [36], [40], [25], [50], [27], [46], [46], [14], [21], [30], [66], [41], [33], [18], [30], [22], [22], [21], [29], [35], [26], [33], [16], [30], [13], [27], [32], [25], [43], [51], [28], [25], [24], [43], [22], [48], [27], [19], [15], [16], [25], [21], [57], [65], [40], [20], [72], [24], [74], [69], [38], [24], [42], [62], [33], [22], [26], [21], [26], [61], [48], [55], [23], [44], [18], [28], [47], [23], [20], [32], [18], [18], [13], [49], [13], [53], [99], [22], [11], [15], [44], [40], [24], [49], [9], [53], [49], [15], [26], [42], [56], [36], [30], [56], [54], [60], [53], [36], [56], [18], [50], [32], [67], [29], [60], [26], [16], [59], [27], [32], [12], [16], [21], [23], [24], [49], [26], [81], [34], [18], [21], [52], [33], [25], [26], [22], [26], [74], [42], [49], [34], [40], [37], [19], [18], [66], [24], [47], [48], [23], [21], [57], [23], [44], [23], [27], [40], [50], [39], [29], [52], [24], [53], [26], [17], [18], [80], [20], [50], [29], [77], [30], [6], [52], [32], [59], [73], [22], [45], [51], [85], [23], [27], [100], [25], [14], [21], [19], [22], [19], [27], [21], [53], [21], [29], [71], [23], [47], [20], [19], [43], [36], [40], [61], [25], [26], [24], [29], [16], [73], [25], [61], [44], [33], [14], [25], [22], [11], [38], [24], [91], [17], [10], [68], [50], [62], [20], [45], [75], [55], [9], [69], [20], [23], [28], [55], [38], [21], [28], [44], [32], [50], [18], [22], [27], [45], [41], [33], [30], [47], [60], [23], [80], [23], [55], [37], [28], [28], [30], [33], [24], [40], [65], [39], [10], [22], [69], [44], [28], [36], [12], [27], [43], [28], [19], [59], [77], [19], [59], [32], [102], [20], [62], [17], [12], [32], [51], [32], [10], [14], [58], [96], [65], [20], [15], [23], [23], [35], [24], [76], [25], [16], [38], [28], [14], [21], [12], [57], [20], [25], [35], [22], [20], [52], [37], [69], [15], [13], [31], [35], [37], [16], [63], [43], [50], [17], [19], [31], [24], [51], [37], [27], [19], [55], [17], [17], [39], [44], [11], [43], [53], [17], [33], [33], [75], [26], [22], [61], [34], [22], [24], [45], [52], [54], [32], [70], [17], [19], [51], [29], [32], [28], [50], [25], [17], [80], [32], [55], [26], [68], [25], [25], [50], [21], [52], [26], [52], [28], [46], [15], [25], [24], [54], [72], [21], [56], [66], [27], [16], [45], [69], [67], [21], [41], [25], [56], [37], [30], [26], [19], [38], [22], [61], [24], [21], [19], [48], [20], [36], [21], [11], [10], [55], [12], [14], [34], [74], [33], [15], [2], [38], [51], [11], [35], [49], [15], [23], [23], [13], [42], [42], [47], [17], [55], [26], [41], [38], [33], [35], [86], [24], [68], [37], [11], [33], [34], [20], [59], [31], [14], [36], [15], [22], [57], [46], [26], [40], [22], [7], [29], [53], [17], [11], [15], [31], [22], [59], [13], [51], [18], [20], [19], [10], [10], [23], [38], [22], [70], [27], [41], [18], [18], [55], [57], [45], [31], [85], [67], [10], [46], [33], [43], [18], [36], [20], [19], [9], [38], [38], [27], [25], [57], [46], [49], [19], [43], [45], [42], [24], [24], [54], [59], [47], [26], [74], [14], [24], [51], [17], [24], [44], [12], [27], [37], [37], [16], [30], [33], [14], [43], [51], [29], [59], [34], [68], [10], [15], [19], [47], [27], [28], [18], [21], [48], [40], [46], [92], [14], [69], [31], [20], [10], [48], [49], [59], [40], [25], [45], [38], [26], [73], [38], [39], [25], [24], [29], [54], [59], [22], [28], [17], [22], [58], [15], [23], [100], [14], [21], [44], [20], [19], [12], [28], [47], [20], [50], [62], [58], [79], [61], [25], [23], [12], [67], [53], [18], [25], [26], [64], [22], [28], [36], [54], [69], [19], [43], [21], [49], [29], [42], [31], [30], [35], [16], [37], [44], [18], [24], [42], [65], [36], [33], [32], [19], [25], [13], [19], [29], [40], [41], [54], [27], [31], [18], [29], [23], [21], [42], [10], [57], [19], [53], [28], [28], [32], [31], [33], [27], [16], [36], [45], [15], [24], [17], [15], [54], [37], [38], [37], [48], [72], [25], [29], [28], [36], [64], [31], [60], [21], [15], [29], [17], [52], [31], [20], [21], [30], [60], [21], [32], [32], [28], [54], [15], [16], [71], [20], [44], [15], [30], [23], [26], [39], [24], [32], [53], [27], [32], [51], [74], [87], [16], [27], [18], [48], [54], [28], [34], [67], [70], [20], [58], [46], [46], [76], [45], [29], [56], [14], [43], [26], [12], [39], [28], [22], [28], [48], [35], [25], [24], [16], [18], [24], [25], [20], [35], [54], [20], [48], [20], [19], [35], [67], [26], [63], [31], [13], [47], [31], [24], [23], [29], [54], [26], [16], [78], [40], [62], [21], [30], [49], [19], [52], [27], [27], [44], [47], [52], [33], [61], [14], [25], [20], [30], [20], [35], [27], [17], [17], [19], [46], [29], [58], [37], [24], [19], [21], [62], [19], [38], [47], [27], [39], [57], [74], [47], [37], [32], [71], [43], [18], [16], [107], [100], [45], [66], [15], [17], [23], [11], [18], [26], [54], [20], [50], [23], [54], [37], [37], [43], [52], [30], [27], [21], [21], [71], [46], [54], [13], [46], [58], [63], [77], [25], [52], [56], [77], [34], [44], [16], [25], [31], [20], [46], [15], [29], [18], [15], [20], [34], [40], [28], [19], [25], [20], [79], [34], [20], [65], [60], [39], [40], [43], [18], [32], [20], [31], [31], [103], [55], [17], [34], [19], [46], [30], [18], [24], [39], [19], [49], [51], [33], [78], [28], [47], [30], [37], [29], [50], [35], [56], [20], [86], [40], [48], [76], [50], [26], [10], [19], [14], [24], [56], [44], [12], [24], [27], [24], [29], [41], [58], [50], [24], [75], [22], [33], [22], [43], [75], [41], [69], [66], [26], [57], [35], [35], [24], [26], [68], [16], [48], [24], [23], [55], [65], [17], [69], [11], [40], [57], [32], [36], [31], [87], [72], [28], [59], [30], [17], [27], [18], [39], [27], [42], [50], [34], [67], [15], [51], [43], [46], [26], [85], [62], [10], [18], [24], [27], [69], [29], [45], [90], [19], [24], [44], [45], [33], [28], [22], [35], [58], [101], [36], [39], [10], [61], [67], [37], [58], [48], [30], [73], [24], [20], [38], [14], [20], [34], [63], [27], [23], [64], [30], [24], [24], [116], [23], [18], [39], [25], [43], [51], [25], [30], [45], [17], [52], [50], [21], [17], [39], [23], [45], [34], [58], [72], [33], [75], [55], [50], [19], [55], [29], [46], [26], [38], [30], [45], [28], [61], [32], [21], [65], [49], [42], [49], [29], [20], [15], [35], [55], [53], [21], [39], [45], [17], [16], [30], [58], [43], [22], [26], [35], [35], [21], [17], [57], [45], [51], [35], [18], [43], [31], [17], [30], [17], [46], [92], [23], [43], [25], [100], [34], [17], [9], [28], [33], [17], [34], [51], [15], [58], [33], [25], [40], [43], [27], [45], [40], [32], [75], [63], [13], [20], [45], [26], [52], [61], [49], [31], [51], [17], [31], [59], [34], [46], [24], [36], [31], [38], [57], [33], [20], [26], [33], [17], [17], [17], [24], [30], [50], [45], [31], [56], [62], [58], [41], [44], [16], [61], [22], [18], [30], [17], [21], [56], [72], [31], [29], [93], [50], [37], [58], [26], [57], [45], [34], [51], [27], [29], [32], [22], [33], [38], [73], [36], [45], [65], [23], [29], [24], [21], [66], [16], [23], [15], [31], [77], [62], [20], [37], [23], [21], [12], [21], [18], [43], [15], [32], [19], [11], [37], [12], [50], [51], [29], [58], [14], [21], [42], [14], [101], [39], [58], [24], [34], [22], [24], [20], [50], [57], [25], [36], [17], [10], [51], [28], [40], [20], [24], [24], [63], [49], [17], [25], [57], [22], [18], [49], [18], [17], [26], [41], [69], [72], [41], [20], [43], [53], [33], [46], [48], [12], [14], [32], [28], [21], [55], [51], [33], [66], [24], [2], [26], [33], [43], [43], [38], [58], [55], [12], [46], [35], [68], [62], [45], [9], [66], [35], [12], [25], [44], [35], [26], [51], [65], [21], [49], [49], [22], [36], [37], [34], [59], [42], [16], [93], [27], [69], [88], [48], [27], [18], [30], [26], [20], [70], [32], [42], [34], [31], [38], [26], [49], [23], [90], [18], [42], [19], [78], [38], [39], [82], [21], [37], [46], [21], [32], [22], [73], [13], [37], [11], [39], [72], [29], [49], [47], [36], [45], [43], [21], [74], [12], [35], [69], [27], [40], [27], [85], [52], [23], [56], [10], [19], [19], [54], [45], [19], [61], [36], [27], [49], [20], [52], [24], [42], [20], [17], [41], [24], [57], [57], [17], [28], [42], [43], [39], [48], [26], [52], [55], [40], [59], [42], [23], [16], [42], [23], [30], [27], [39], [18], [35], [44], [22], [25], [38], [26], [35], [52], [33], [30], [24], [28], [47], [17], [51], [22], [17], [23], [78], [47], [54], [53], [31], [28], [19], [9], [65], [24], [31], [24], [14], [30], [40], [27], [40], [17], [33], [60], [25], [29], [27], [17], [38], [33], [37], [55], [21], [13], [27], [62], [58], [43], [38], [43], [25], [24], [28], [27], [31], [40], [46], [25], [41], [53], [21], [44], [57], [24], [57], [85], [44], [25], [43], [36], [75], [28], [67], [63], [35], [14], [54], [13], [10], [49], [29], [31], [23], [77], [87], [54], [29], [31], [13], [14], [19], [12], [50], [37], [25], [40], [65], [23], [26], [100], [20], [45], [47], [12], [25], [15], [16], [2], [13], [26], [25], [37], [47], [45], [18], [37], [19], [24], [52], [21], [27], [19], [15], [15], [15], [42], [26], [42], [17], [30], [32], [30], [60], [17], [49], [21], [49], [25], [46], [39], [26], [28], [31], [49], [24], [38], [20], [45], [29], [41], [29], [35], [60], [67], [24], [17], [17], [29], [17], [32], [52], [56], [54], [55], [20], [24], [41], [46], [35], [17], [10], [60], [40], [42], [28], [20], [26], [45], [18], [24], [34], [26], [11], [17], [39], [35], [52], [28], [19], [37], [19], [34], [19], [54], [48], [48], [34], [91], [13], [11], [25], [26], [46], [26], [22], [57], [48], [25], [25], [26], [43], [24], [16], [7], [59], [22], [41], [22], [82], [35], [18], [62], [63], [9], [30], [43], [51], [19], [34], [38], [62], [11], [40], [59], [24], [38], [30], [17], [63], [33], [25], [45], [27], [16], [16], [43], [32], [22], [26], [24], [31], [10], [14], [62], [25], [22], [28], [66], [25], [52], [46], [45], [47], [53], [62], [64], [72], [58], [53], [25], [21], [34], [48], [17], [26], [37], [13], [43], [59], [35], [51], [19], [26], [29], [59], [21], [33], [45], [64], [45], [45], [25], [17], [28], [50], [29], [44], [48], [64], [32], [61], [44], [81], [25], [45], [53], [37], [53], [50], [18], [46], [22], [46], [49], [71], [67], [60], [53], [29], [66], [28], [19], [14], [93], [75], [26], [42], [23], [15], [48], [55], [29], [35], [44], [23], [42], [39], [27], [34], [43], [16], [15], [46], [43], [24], [58], [22], [14], [24], [23], [54], [23], [19], [44], [57], [47], [58], [14], [21], [92], [31], [46], [75], [47], [23], [66], [76], [24], [76], [29], [18], [28], [49], [21], [41], [47], [36], [58], [58], [24], [18], [49], [45], [16], [59], [42], [54], [58], [41], [19], [14], [50], [109], [12], [26], [19], [64], [21], [58], [36], [54], [22], [34], [19], [21], [31], [51], [17], [25], [13], [63], [85], [42], [72], [37], [23], [26], [38], [50], [56], [25], [30], [32], [42], [27], [38], [80], [26], [50], [30], [25], [36], [25], [20], [17], [36], [15], [47], [20], [36], [24], [24], [86], [67], [14], [37], [31], [13], [23], [13], [26], [12], [27], [18], [42], [54], [48], [73], [30], [20], [16], [42], [37], [66], [22], [60], [15], [23], [69], [45], [11], [11], [37], [100], [77], [22], [46], [28], [70], [77], [60], [42], [24], [44], [76], [23], [53], [48], [24], [58], [61], [19], [20], [45], [39], [43], [29], [54], [26], [69], [21], [23], [41], [57], [31], [26], [18], [16], [60], [43], [19], [19], [53], [20], [38], [22], [27], [40], [74], [73], [55], [33], [56], [59], [14], [18], [57], [31], [15], [18], [34], [24], [28], [30], [13], [27], [22], [32], [17], [14], [32], [25], [27], [29], [53], [47], [32], [54], [20], [36], [15], [14], [53], [18], [33], [28], [26], [27], [58], [62], [55], [14], [89], [32], [46], [65], [20], [41], [72], [83], [34], [31], [18], [59], [43], [21], [39], [54], [9], [22], [35], [47], [45], [63], [53], [40], [32], [17], [89], [43], [22], [29], [68], [89], [57], [53], [41], [36], [17], [42], [37], [20], [70], [35], [76], [37], [30], [23], [23], [60], [35], [47], [20], [28], [27], [33], [39], [19], [18], [15], [48], [23], [30], [16], [37], [31], [47], [33], [42], [64], [41], [34], [36], [34], [17], [15], [36], [25], [11], [49], [13], [43], [53], [63], [74], [21], [12], [23], [52], [21], [20], [18], [22], [19], [55], [34], [22], [29], [71], [51], [15], [30], [25], [50], [42], [18], [17], [27], [47], [17], [38], [36], [47], [37], [14], [43], [71], [17], [41], [33], [40], [53], [65], [27], [42], [48], [17], [82], [44], [30], [75], [33], [58], [48], [10], [16], [22], [99], [30], [68], [29], [34], [27], [15], [27], [56], [28], [22], [40], [14], [25], [43], [19], [35], [36], [33], [21], [26], [33], [67], [41], [70], [39], [54], [51], [64], [29], [33], [46], [22], [38], [64], [15], [34], [65], [22], [58], [15], [17], [22], [18], [20], [48], [22], [44], [23], [41], [57], [42], [18], [20], [17], [23], [26], [52], [16], [59], [71], [33], [21], [29], [70], [19], [51], [16], [20], [15], [14], [69], [16], [65], [17], [40], [44], [20], [47], [37], [23], [79], [47], [27], [35], [42], [19], [51], [26], [25], [74], [45], [56], [20], [56], [43], [29], [24], [22], [48], [39], [31], [36], [21], [14], [17], [72], [47], [7], [24], [49], [83], [36], [56], [46], [21], [18], [56], [23], [49], [23], [27], [14], [28], [27], [60], [26], [14], [57], [52], [65], [16], [25], [32], [14], [12], [21], [36], [88], [20], [11], [44], [15], [26], [22], [55], [21], [65], [34], [13], [43], [46], [42], [25], [34], [52], [79], [23], [25], [42], [46], [21], [39], [46], [45], [91], [89], [29], [36], [30], [73], [16], [38], [57], [71], [54], [49], [52], [56], [34], [20], [62], [25], [51], [71], [52], [40], [38], [33], [38], [46], [65], [68], [8], [34], [19], [44], [12], [53], [56], [43], [58], [13], [19], [27], [29], [11], [25], [69], [58], [44], [32], [39], [63], [37], [18], [25], [41], [71], [16], [85], [29], [55], [29], [28], [30], [12], [46], [59], [27], [55], [55], [13], [66], [58], [17], [8], [60], [31], [14], [45], [39], [30], [12], [37], [34], [18], [27], [20], [15], [18], [29], [45], [32], [46], [15], [22], [40], [59], [36], [55], [89], [28], [22], [50], [50], [30], [54], [51], [8], [24], [24], [29], [68], [36], [53], [23], [91], [24], [38], [16], [31], [72], [12], [16], [26], [41], [20], [17], [33], [26], [53], [23], [31], [53], [43], [45], [25], [22], [47], [46], [21], [26], [18], [73], [25], [21], [45], [44], [19], [28], [23], [18], [62], [42], [56], [46], [42], [7], [22], [91], [25], [39], [15], [55], [34], [12], [40], [28], [66], [29], [22], [71], [14], [66], [21], [18], [51], [40], [7], [58], [22], [43], [23], [52], [28], [45], [54], [29], [23], [94], [60], [25], [33], [19], [9], [54], [46], [15], [30], [30], [33], [26], [34], [45], [24], [38], [20], [50], [43], [58], [30], [51], [20], [12], [24], [20], [17], [32], [17], [43], [27], [23], [71], [59], [33], [30], [41], [34], [45], [74], [44], [27], [39], [30], [16], [22], [29], [10], [22], [29], [39], [18], [41], [17], [33], [24], [75], [51], [44], [21], [28], [93], [38], [24], [44], [56], [52], [12], [34], [20], [35], [31], [9], [39], [86], [30], [24], [30], [44], [7], [12], [23], [55], [54], [32], [17], [33], [44], [56], [35], [18], [38], [104], [44], [52], [13], [51], [91], [60], [26], [36], [35], [16], [53], [12], [28], [7], [32], [33], [23], [67], [21], [64], [27], [16], [52], [43], [8], [52], [6], [29], [50], [36], [29], [23], [2], [29], [33], [76], [53], [33], [83], [17], [15], [25], [13], [14], [27], [69], [32], [22], [13], [56], [25], [20], [82], [16], [50], [41], [78], [87], [46], [38], [54], [75], [64], [30], [38], [25], [31], [66], [45], [38], [23], [44], [22], [22], [47], [38], [40], [30], [16], [13], [37], [65], [40], [52], [23], [20], [47], [30], [19], [22], [51], [37], [74], [24], [15], [38], [31], [47], [73], [20], [64], [22], [9], [30], [63], [19], [31], [8], [20], [16], [19], [28], [56], [30], [30], [33], [22], [58], [13], [56], [18], [52], [16], [78], [23], [46], [28], [26], [61], [40], [22], [28], [39], [18], [65], [40], [26], [44], [24], [23], [46], [9], [26], [21], [17], [18], [33], [32], [64], [19], [24], [26], [40], [29], [37], [37], [51], [27], [29], [9], [33], [20], [27], [74], [22], [47], [92], [35], [22], [39], [55], [30], [20], [13], [54], [26], [24], [83], [29], [21], [10], [17], [30], [25], [59], [39], [40], [26], [34], [104], [24], [23], [23], [52], [31], [19], [26], [33], [26], [32], [26], [33], [26], [12], [23], [24], [60], [58], [22], [94], [14], [61], [26], [19], [25], [52], [27], [21], [27], [31], [20], [23], [17], [46], [61], [19], [25], [51], [23], [48], [21], [46], [15], [20], [31], [19], [66], [63], [39], [15], [15], [16], [16], [55], [43], [30], [56], [38], [23], [21], [27], [68], [24], [43], [18], [35], [19], [46], [13], [14], [27], [16], [22], [21], [18], [10], [54], [10], [48], [26], [16], [26], [44], [49], [33], [44], [17], [15], [45], [38], [15], [16], [52], [60], [79], [72], [25], [21], [27], [21], [54], [52], [9], [36], [18], [15], [70], [29], [16], [31], [22], [61], [22], [67], [25], [15], [17], [35], [50], [31], [19], [50], [48], [24], [17], [38], [56], [18], [20], [41], [51], [29], [38], [29], [23], [54], [16], [49], [22], [39], [49], [65], [24], [11], [21], [15], [22], [68], [41], [30], [37], [34], [32], [63], [105], [75], [25], [26], [12], [78], [13], [63], [67], [30], [8], [20], [33], [20], [7], [23], [33], [43], [38], [49], [33], [61], [25], [22], [38], [30], [8], [57], [35], [9], [37], [37], [24], [24], [17], [63], [20], [79], [23], [35], [24], [100], [23], [24], [31], [17], [42], [44], [24], [40], [62], [13], [45], [19], [82], [20], [55], [10], [56], [25], [13], [24], [23], [20], [20], [25], [52], [51], [35], [25], [40], [78], [47], [54], [25], [10], [61], [33], [12], [8], [46], [30], [74], [43], [47], [67], [35], [27], [50], [33], [31], [16], [54], [48], [35], [79], [23], [53], [21], [14], [74], [29], [25], [27], [46], [54], [74], [33], [53], [53], [37], [63], [26], [79], [31], [50], [16], [64], [45], [31], [43], [78], [31], [24], [17], [24], [34], [63], [24], [31], [45], [44], [39], [33], [34], [19], [21], [36], [27], [44], [66], [49], [21], [39], [34], [69], [17], [75], [25], [32], [14], [21], [45], [22], [20], [41], [29], [83], [49], [32], [38], [67], [22], [43], [73], [36], [12], [40], [12], [57], [32], [24], [42], [37], [36], [23], [16], [45], [21], [14], [32], [22], [38], [22], [22], [15], [11], [44], [46], [33], [40], [36], [21], [21], [53], [29], [11], [32], [59], [38], [30], [10], [30], [19], [56], [44], [6], [96], [41], [14], [42], [31], [41], [11], [39], [29], [21], [15], [28], [20], [19], [70], [71], [26], [25], [36], [21], [19], [14], [43], [23], [59], [19], [55], [13], [58], [46], [18], [23], [31], [25], [69], [13], [35], [19], [43], [15], [13], [62], [43], [20], [16], [33], [57], [42], [12], [36], [36], [39], [53], [23], [25], [50], [53], [43], [49], [53], [35], [23], [45], [44], [75], [17], [37], [15], [38], [17], [67], [21], [32], [22], [13], [26], [38], [30], [33], [31], [23], [30], [27], [21], [43], [25], [19], [65], [24], [20], [19], [29], [27], [62], [22], [15], [26], [20], [28], [38], [57], [48], [56], [44], [25], [62], [64], [38], [38], [27], [35], [23], [15], [30], [29], [48], [34], [19], [14], [20], [64], [19], [30], [16], [19], [68], [12], [23], [43], [14], [63], [29], [42], [39], [18], [76], [80], [14], [49], [20], [71], [14], [73], [43], [16], [16], [60], [14], [36], [42], [10], [44], [28], [33], [32], [52], [36], [49], [46], [14], [19], [25], [40], [66], [22], [61], [17], [43], [21], [53], [27], [22], [53], [54], [66], [38], [26], [2]]\n"
     ]
    }
   ],
   "source": [
    "print(token_lengths)"
   ]
  },
  {
   "cell_type": "code",
   "execution_count": 24,
   "metadata": {},
   "outputs": [
    {
     "data": {
      "text/html": [
       "<div>\n",
       "<style scoped>\n",
       "    .dataframe tbody tr th:only-of-type {\n",
       "        vertical-align: middle;\n",
       "    }\n",
       "\n",
       "    .dataframe tbody tr th {\n",
       "        vertical-align: top;\n",
       "    }\n",
       "\n",
       "    .dataframe thead th {\n",
       "        text-align: right;\n",
       "    }\n",
       "</style>\n",
       "<table border=\"1\" class=\"dataframe\">\n",
       "  <thead>\n",
       "    <tr style=\"text-align: right;\">\n",
       "      <th></th>\n",
       "      <th>id</th>\n",
       "      <th>subject</th>\n",
       "      <th>scene</th>\n",
       "      <th>quality</th>\n",
       "      <th>relevance</th>\n",
       "      <th>verified</th>\n",
       "      <th>script</th>\n",
       "      <th>objects</th>\n",
       "      <th>descriptions</th>\n",
       "      <th>actions</th>\n",
       "      <th>length</th>\n",
       "    </tr>\n",
       "  </thead>\n",
       "  <tbody>\n",
       "    <tr>\n",
       "      <th>7980</th>\n",
       "      <td>7K2CS</td>\n",
       "      <td>HJZQ</td>\n",
       "      <td>Garage</td>\n",
       "      <td>6.0</td>\n",
       "      <td>6.0</td>\n",
       "      <td>Yes</td>\n",
       "      <td>Person enters the garage while sneezing. Perso...</td>\n",
       "      <td>chair;clothes;door;food;sandwich;shirt;spoon</td>\n",
       "      <td>A enters through a doorway, sneezes, then clos...</td>\n",
       "      <td>c065 17.60 31.00;c067 17.60 31.00;c153 0.00 5....</td>\n",
       "      <td>30.08</td>\n",
       "    </tr>\n",
       "    <tr>\n",
       "      <th>7981</th>\n",
       "      <td>S2A89</td>\n",
       "      <td>KL48</td>\n",
       "      <td>Bathroom</td>\n",
       "      <td>7.0</td>\n",
       "      <td>7.0</td>\n",
       "      <td>Yes</td>\n",
       "      <td>A person takes a chair and walks it over, plac...</td>\n",
       "      <td>chair;door</td>\n",
       "      <td>A PERSON IS TAKING A CHAIR FROM ONE ROOM TO TH...</td>\n",
       "      <td>c006 4.00 10.80;c141 4.40 10.90;c151 12.80 20....</td>\n",
       "      <td>19.29</td>\n",
       "    </tr>\n",
       "    <tr>\n",
       "      <th>7982</th>\n",
       "      <td>01O27</td>\n",
       "      <td>18IT</td>\n",
       "      <td>Bathroom</td>\n",
       "      <td>6.0</td>\n",
       "      <td>7.0</td>\n",
       "      <td>Yes</td>\n",
       "      <td>A person enters a bathroom and closes the door...</td>\n",
       "      <td>door;floor;mirror</td>\n",
       "      <td>A person is walking towards the bathroom. A pe...</td>\n",
       "      <td>c006 5.10 11.50;c008 0.50 6.60;c124 39.00 47.0...</td>\n",
       "      <td>46.08</td>\n",
       "    </tr>\n",
       "    <tr>\n",
       "      <th>7983</th>\n",
       "      <td>2MJ72</td>\n",
       "      <td>6RE8</td>\n",
       "      <td>Bedroom</td>\n",
       "      <td>6.0</td>\n",
       "      <td>6.0</td>\n",
       "      <td>Yes</td>\n",
       "      <td>A person opens a window in their laundry room....</td>\n",
       "      <td>door;towel;window</td>\n",
       "      <td>A person opens a window and looks out of it.  ...</td>\n",
       "      <td>c006 11.00 17.00;c037 20.70 31.00;c092 0.60 8....</td>\n",
       "      <td>30.25</td>\n",
       "    </tr>\n",
       "    <tr>\n",
       "      <th>7984</th>\n",
       "      <td>PG1ID</td>\n",
       "      <td>D0RU</td>\n",
       "      <td>Home Office / Study (A room in a house used fo...</td>\n",
       "      <td>6.0</td>\n",
       "      <td>6.0</td>\n",
       "      <td>Yes</td>\n",
       "      <td>A person snuggles with a laptop, A person sits...</td>\n",
       "      <td>broom;laptop;something</td>\n",
       "      <td>{}</td>\n",
       "      <td>c047 0.00 33.00;c051 0.00 33.00;c052 0.00 33.0...</td>\n",
       "      <td>32.08</td>\n",
       "    </tr>\n",
       "  </tbody>\n",
       "</table>\n",
       "</div>"
      ],
      "text/plain": [
       "         id subject                                              scene  \\\n",
       "7980  7K2CS    HJZQ                                             Garage   \n",
       "7981  S2A89    KL48                                           Bathroom   \n",
       "7982  01O27    18IT                                           Bathroom   \n",
       "7983  2MJ72    6RE8                                            Bedroom   \n",
       "7984  PG1ID    D0RU  Home Office / Study (A room in a house used fo...   \n",
       "\n",
       "      quality  relevance verified  \\\n",
       "7980      6.0        6.0      Yes   \n",
       "7981      7.0        7.0      Yes   \n",
       "7982      6.0        7.0      Yes   \n",
       "7983      6.0        6.0      Yes   \n",
       "7984      6.0        6.0      Yes   \n",
       "\n",
       "                                                 script  \\\n",
       "7980  Person enters the garage while sneezing. Perso...   \n",
       "7981  A person takes a chair and walks it over, plac...   \n",
       "7982  A person enters a bathroom and closes the door...   \n",
       "7983  A person opens a window in their laundry room....   \n",
       "7984  A person snuggles with a laptop, A person sits...   \n",
       "\n",
       "                                           objects  \\\n",
       "7980  chair;clothes;door;food;sandwich;shirt;spoon   \n",
       "7981                                    chair;door   \n",
       "7982                             door;floor;mirror   \n",
       "7983                             door;towel;window   \n",
       "7984                        broom;laptop;something   \n",
       "\n",
       "                                           descriptions  \\\n",
       "7980  A enters through a doorway, sneezes, then clos...   \n",
       "7981  A PERSON IS TAKING A CHAIR FROM ONE ROOM TO TH...   \n",
       "7982  A person is walking towards the bathroom. A pe...   \n",
       "7983  A person opens a window and looks out of it.  ...   \n",
       "7984                                                 {}   \n",
       "\n",
       "                                                actions  length  \n",
       "7980  c065 17.60 31.00;c067 17.60 31.00;c153 0.00 5....   30.08  \n",
       "7981  c006 4.00 10.80;c141 4.40 10.90;c151 12.80 20....   19.29  \n",
       "7982  c006 5.10 11.50;c008 0.50 6.60;c124 39.00 47.0...   46.08  \n",
       "7983  c006 11.00 17.00;c037 20.70 31.00;c092 0.60 8....   30.25  \n",
       "7984  c047 0.00 33.00;c051 0.00 33.00;c052 0.00 33.0...   32.08  "
      ]
     },
     "execution_count": 24,
     "metadata": {},
     "output_type": "execute_result"
    }
   ],
   "source": [
    "k = 128\n",
    "mask = [x[0] <= k for x in token_lengths]\n",
    "df_required = df[mask]\n",
    "df_required.to_csv(f\"./Charades/Charades_gpt_train_{k}.csv\")\n",
    "df_required.tail(5)\n"
   ]
  },
  {
   "cell_type": "code",
   "execution_count": null,
   "metadata": {},
   "outputs": [
    {
     "name": "stdout",
     "output_type": "stream",
     "text": [
      "7983\n"
     ]
    }
   ],
   "source": [
    "print(sum(mask))"
   ]
  },
  {
   "cell_type": "code",
   "execution_count": null,
   "metadata": {},
   "outputs": [
    {
     "name": "stdout",
     "output_type": "stream",
     "text": [
      "torch.Size([1, 3])\n",
      "tensor([[15496, 18435, 18435]])\n",
      "torch.Size([1, 3, 768])\n",
      "tensor([[[-0.0687, -0.1327,  0.0112,  ...,  0.0715, -0.0297, -0.0477],\n",
      "         [-0.0934,  0.0144,  0.1297,  ...,  0.0379,  0.0786, -0.0337],\n",
      "         [-0.0934,  0.0144,  0.1297,  ...,  0.0379,  0.0786, -0.0337]]],\n",
      "       grad_fn=<EmbeddingBackward0>)\n"
     ]
    }
   ],
   "source": [
    "# Import the tokenizer and model\n",
    "from transformers import GPT2Tokenizer, GPT2LMHeadModel\n",
    "\n",
    "# Load the tokenizer and model\n",
    "tokenizer = GPT2Tokenizer.from_pretrained('gpt2')\n",
    "model = GPT2LMHeadModel.from_pretrained('gpt2')\n",
    "\n",
    "# Encode some text into input ids\n",
    "text = \"Hello Hello Hello\"\n",
    "input_ids = tokenizer.encode(text, return_tensors='pt')\n",
    "\n",
    "# Use the wte attribute to get the token embeddings\n",
    "token_embeddings = model.base_model.wte(input_ids)\n",
    "\n",
    "# Print the shape and values of the token embeddings\n",
    "print(input_ids.shape)\n",
    "print(input_ids)\n",
    "print(token_embeddings.shape)\n",
    "print(token_embeddings)\n"
   ]
  }
 ],
 "metadata": {
  "kernelspec": {
   "display_name": "clipcap",
   "language": "python",
   "name": "python3"
  },
  "language_info": {
   "codemirror_mode": {
    "name": "ipython",
    "version": 3
   },
   "file_extension": ".py",
   "mimetype": "text/x-python",
   "name": "python",
   "nbconvert_exporter": "python",
   "pygments_lexer": "ipython3",
   "version": "3.11.4"
  },
  "orig_nbformat": 4
 },
 "nbformat": 4,
 "nbformat_minor": 2
}
